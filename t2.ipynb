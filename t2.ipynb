{
 "cells": [
  {
   "cell_type": "code",
   "execution_count": 2,
   "id": "8a34b9ab",
   "metadata": {},
   "outputs": [],
   "source": [
    "import numpy as np"
   ]
  },
  {
   "cell_type": "code",
   "execution_count": 3,
   "id": "3cad24ae",
   "metadata": {},
   "outputs": [
    {
     "data": {
      "text/plain": [
       "array([[ True,  True,  True,  True,  True],\n",
       "       [ True,  True,  True,  True,  True],\n",
       "       [ True,  True,  True,  True,  True],\n",
       "       [ True,  True,  True,  True,  True]])"
      ]
     },
     "execution_count": 3,
     "metadata": {},
     "output_type": "execute_result"
    }
   ],
   "source": [
    "p1 = np.full((4, 5), True)\n",
    "p1"
   ]
  },
  {
   "cell_type": "code",
   "execution_count": 5,
   "id": "e9cb7093",
   "metadata": {},
   "outputs": [
    {
     "name": "stdout",
     "output_type": "stream",
     "text": [
      "[10, 11, 12, 13, 14, 15, 16, 17, 18, 19, 20, 21, 22, 23, 24, 25, 26, 27, 28, 29, 30, 31, 32, 33, 34, 35, 36, 37, 38, 39, 40, 41, 42, 43, 44, 45, 46, 47, 48, 49]\n"
     ]
    }
   ],
   "source": [
    "a=np.arange(10,50)\n",
    "\n",
    "print(list(a))"
   ]
  },
  {
   "cell_type": "code",
   "execution_count": 6,
   "id": "6919cc4d",
   "metadata": {},
   "outputs": [
    {
     "data": {
      "text/plain": [
       "[-1,\n",
       " 11,\n",
       " -1,\n",
       " 13,\n",
       " -1,\n",
       " 15,\n",
       " -1,\n",
       " 17,\n",
       " -1,\n",
       " 19,\n",
       " -1,\n",
       " 21,\n",
       " -1,\n",
       " 23,\n",
       " -1,\n",
       " 25,\n",
       " -1,\n",
       " 27,\n",
       " -1,\n",
       " 29,\n",
       " -1,\n",
       " 31,\n",
       " -1,\n",
       " 33,\n",
       " -1,\n",
       " 35,\n",
       " -1,\n",
       " 37,\n",
       " -1,\n",
       " 39,\n",
       " -1,\n",
       " 41,\n",
       " -1,\n",
       " 43,\n",
       " -1,\n",
       " 45,\n",
       " -1,\n",
       " 47,\n",
       " -1,\n",
       " 49]"
      ]
     },
     "execution_count": 6,
     "metadata": {},
     "output_type": "execute_result"
    }
   ],
   "source": [
    "b=list(map(lambda x:-1 if x%2==0 else x,a))\n",
    "b"
   ]
  },
  {
   "cell_type": "code",
   "execution_count": 9,
   "id": "bbc5ff91",
   "metadata": {},
   "outputs": [
    {
     "name": "stdout",
     "output_type": "stream",
     "text": [
      "[ 1  3  5  7  9 11 13 15 17 19]\n"
     ]
    }
   ],
   "source": [
    "x = np.arange(1,20,2)\n",
    "print(x)"
   ]
  },
  {
   "cell_type": "code",
   "execution_count": 16,
   "id": "89b76057",
   "metadata": {},
   "outputs": [
    {
     "name": "stdout",
     "output_type": "stream",
     "text": [
      "[ 1  0  5  7  0 11 13  0 17 19]\n"
     ]
    }
   ],
   "source": [
    "j=list(map(lambda x:0 if x%3==0 else x,x))\n",
    "j=np.array(j)\n",
    "print(j)"
   ]
  },
  {
   "cell_type": "code",
   "execution_count": 18,
   "id": "a966020c",
   "metadata": {},
   "outputs": [
    {
     "name": "stdout",
     "output_type": "stream",
     "text": [
      "[[ 1  0  5  7  0]\n",
      " [11 13  0 17 19]]\n"
     ]
    }
   ],
   "source": [
    "j2=np.reshape(j,(2,5))\n",
    "print(j2)"
   ]
  },
  {
   "cell_type": "code",
   "execution_count": 24,
   "id": "acee2f3f",
   "metadata": {},
   "outputs": [
    {
     "data": {
      "text/plain": [
       "array([[ 1,  0,  0,  7,  0],\n",
       "       [11, 13,  0, 17, 19]])"
      ]
     },
     "execution_count": 24,
     "metadata": {},
     "output_type": "execute_result"
    }
   ],
   "source": [
    "j2[0,2]=0\n",
    "j2[1,2]=0\n",
    "j2"
   ]
  },
  {
   "cell_type": "code",
   "execution_count": 3,
   "id": "c594bb94",
   "metadata": {},
   "outputs": [
    {
     "data": {
      "text/plain": [
       "array([1.5   , 1.6875, 1.875 , 2.0625, 2.25  , 2.4375, 2.625 , 2.8125,\n",
       "       3.    ])"
      ]
     },
     "execution_count": 3,
     "metadata": {},
     "output_type": "execute_result"
    }
   ],
   "source": [
    "b1 = np.linspace(1.5, 3,9)\n",
    "b1"
   ]
  },
  {
   "cell_type": "code",
   "execution_count": 4,
   "id": "faaf3827",
   "metadata": {},
   "outputs": [
    {
     "data": {
      "text/plain": [
       "array([[3, 6, 5],\n",
       "       [4, 8, 9],\n",
       "       [1, 7, 9]])"
      ]
     },
     "execution_count": 4,
     "metadata": {},
     "output_type": "execute_result"
    }
   ],
   "source": [
    "np.random.seed(1234)\n",
    "b2= np.random.randint(0, 10, (3, 3))\n",
    "b2"
   ]
  },
  {
   "cell_type": "code",
   "execution_count": 28,
   "id": "e3cf41fa",
   "metadata": {},
   "outputs": [
    {
     "data": {
      "text/plain": [
       "-34.99999999999999"
      ]
     },
     "execution_count": 28,
     "metadata": {},
     "output_type": "execute_result"
    }
   ],
   "source": [
    "np.linalg.det(b2)"
   ]
  },
  {
   "cell_type": "code",
   "execution_count": 29,
   "id": "a6e7640f",
   "metadata": {},
   "outputs": [
    {
     "data": {
      "text/plain": [
       "array([[3, 4, 1],\n",
       "       [6, 8, 7],\n",
       "       [5, 9, 9]])"
      ]
     },
     "execution_count": 29,
     "metadata": {},
     "output_type": "execute_result"
    }
   ],
   "source": [
    "b2.transpose()"
   ]
  },
  {
   "cell_type": "code",
   "execution_count": 45,
   "id": "e34eb9ea",
   "metadata": {},
   "outputs": [
    {
     "data": {
      "text/plain": [
       "array([[3, 6, 5],\n",
       "       [4, 8, 9],\n",
       "       [1, 7, 9]])"
      ]
     },
     "execution_count": 45,
     "metadata": {},
     "output_type": "execute_result"
    }
   ],
   "source": [
    "b2.reshape(3,3)\n"
   ]
  },
  {
   "cell_type": "code",
   "execution_count": 46,
   "id": "2076b16f",
   "metadata": {},
   "outputs": [
    {
     "data": {
      "text/plain": [
       "array([[1.5   , 1.6875, 1.875 ],\n",
       "       [2.0625, 2.25  , 2.4375],\n",
       "       [2.625 , 2.8125, 3.    ]])"
      ]
     },
     "execution_count": 46,
     "metadata": {},
     "output_type": "execute_result"
    }
   ],
   "source": [
    "b1.reshape(3,3)\n",
    "\n"
   ]
  },
  {
   "cell_type": "code",
   "execution_count": 51,
   "id": "22d85429",
   "metadata": {},
   "outputs": [
    {
     "data": {
      "text/plain": [
       "20.25"
      ]
     },
     "execution_count": 51,
     "metadata": {},
     "output_type": "execute_result"
    }
   ],
   "source": [
    "np.sum(b1)\n"
   ]
  },
  {
   "cell_type": "code",
   "execution_count": 52,
   "id": "46444174",
   "metadata": {},
   "outputs": [
    {
     "data": {
      "text/plain": [
       "52"
      ]
     },
     "execution_count": 52,
     "metadata": {},
     "output_type": "execute_result"
    }
   ],
   "source": [
    "np.sum(b2)"
   ]
  },
  {
   "cell_type": "code",
   "execution_count": 53,
   "id": "63cddb7d",
   "metadata": {},
   "outputs": [
    {
     "data": {
      "text/plain": [
       "72.25"
      ]
     },
     "execution_count": 53,
     "metadata": {},
     "output_type": "execute_result"
    }
   ],
   "source": [
    "np.sum(b2)+np.sum(b1)"
   ]
  },
  {
   "cell_type": "code",
   "execution_count": 8,
   "id": "47d557b8",
   "metadata": {},
   "outputs": [
    {
     "data": {
      "text/plain": [
       "array([[3, 6, 5],\n",
       "       [4, 8, 9],\n",
       "       [1, 7, 9]])"
      ]
     },
     "execution_count": 8,
     "metadata": {},
     "output_type": "execute_result"
    }
   ],
   "source": [
    "b1.reshape(3,3)\n",
    "b2"
   ]
  },
  {
   "cell_type": "code",
   "execution_count": 12,
   "id": "4839cecf",
   "metadata": {},
   "outputs": [
    {
     "data": {
      "text/plain": [
       "array([[1.5   , 1.6875, 1.875 ],\n",
       "       [2.0625, 2.25  , 2.4375],\n",
       "       [2.625 , 2.8125, 3.    ]])"
      ]
     },
     "execution_count": 12,
     "metadata": {},
     "output_type": "execute_result"
    }
   ],
   "source": [
    "b1=b1.reshape(3,3)\n",
    "b1"
   ]
  },
  {
   "cell_type": "code",
   "execution_count": 14,
   "id": "43219806",
   "metadata": {},
   "outputs": [
    {
     "data": {
      "text/plain": [
       "array([[ 4.5   ,  7.6875,  6.875 ],\n",
       "       [ 6.0625, 10.25  , 11.4375],\n",
       "       [ 3.625 ,  9.8125, 12.    ]])"
      ]
     },
     "execution_count": 14,
     "metadata": {},
     "output_type": "execute_result"
    }
   ],
   "source": [
    "b1+b2"
   ]
  },
  {
   "cell_type": "code",
   "execution_count": 13,
   "id": "e2c857d4",
   "metadata": {},
   "outputs": [
    {
     "data": {
      "text/plain": [
       "array([[ 4.5   , 10.125 ,  9.375 ],\n",
       "       [ 8.25  , 18.    , 21.9375],\n",
       "       [ 2.625 , 19.6875, 27.    ]])"
      ]
     },
     "execution_count": 13,
     "metadata": {},
     "output_type": "execute_result"
    }
   ],
   "source": [
    "b1*b2"
   ]
  },
  {
   "cell_type": "code",
   "execution_count": 15,
   "id": "a4c36a08",
   "metadata": {},
   "outputs": [
    {
     "data": {
      "text/plain": [
       "5.777777777777778"
      ]
     },
     "execution_count": 15,
     "metadata": {},
     "output_type": "execute_result"
    }
   ],
   "source": [
    "np.mean(b2)"
   ]
  },
  {
   "cell_type": "code",
   "execution_count": 17,
   "id": "8835629a",
   "metadata": {},
   "outputs": [
    {
     "data": {
      "text/plain": [
       "array([6, 8, 9, 7, 9])"
      ]
     },
     "execution_count": 17,
     "metadata": {},
     "output_type": "execute_result"
    }
   ],
   "source": [
    "b2[b2>np.mean(b2)]\n"
   ]
  },
  {
   "cell_type": "code",
   "execution_count": 18,
   "id": "1302bff6",
   "metadata": {},
   "outputs": [],
   "source": [
    "from sklearn.preprocessing import minmax_scale"
   ]
  },
  {
   "cell_type": "code",
   "execution_count": 21,
   "id": "a542c536",
   "metadata": {},
   "outputs": [
    {
     "data": {
      "text/plain": [
       "array([[0.        , 1.        , 0.66666667],\n",
       "       [0.        , 0.8       , 1.        ],\n",
       "       [0.        , 0.75      , 1.        ]])"
      ]
     },
     "execution_count": 21,
     "metadata": {},
     "output_type": "execute_result"
    }
   ],
   "source": [
    "b2_scaled = np.apply_along_axis(minmax_scale, 1, b2)\n",
    "b2_scaled"
   ]
  },
  {
   "cell_type": "code",
   "execution_count": null,
   "id": "0ea9b24b",
   "metadata": {},
   "outputs": [],
   "source": []
  }
 ],
 "metadata": {
  "kernelspec": {
   "display_name": "Python 3 (ipykernel)",
   "language": "python",
   "name": "python3"
  },
  "language_info": {
   "codemirror_mode": {
    "name": "ipython",
    "version": 3
   },
   "file_extension": ".py",
   "mimetype": "text/x-python",
   "name": "python",
   "nbconvert_exporter": "python",
   "pygments_lexer": "ipython3",
   "version": "3.9.7"
  }
 },
 "nbformat": 4,
 "nbformat_minor": 5
}
